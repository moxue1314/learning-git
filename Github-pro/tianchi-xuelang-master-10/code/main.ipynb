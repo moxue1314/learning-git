{
 "cells": [
  {
   "cell_type": "code",
   "execution_count": null,
   "metadata": {},
   "outputs": [],
   "source": [
    "%%bash\n",
    "\n",
    "pushd ../data\n",
    "\n",
    "unzip -O CP936 -P D4nd8kHIfK xuelang_round1_test_b_20180802.zip.zip \n",
    "unzip -O CP936 -P Y5TzEQLbHD xuelang_round1_test_b.zip \n",
    "\n",
    "rm *.zip\n",
    "\n",
    "popd"
   ]
  },
  {
   "cell_type": "code",
   "execution_count": null,
   "metadata": {},
   "outputs": [],
   "source": [
    "%load_ext autoreload\n",
    "%autoreload 2"
   ]
  },
  {
   "cell_type": "code",
   "execution_count": null,
   "metadata": {},
   "outputs": [],
   "source": [
    "import os\n",
    "\n",
    "import torch\n",
    "\n",
    "from dataset import *\n",
    "from model import *"
   ]
  },
  {
   "cell_type": "code",
   "execution_count": null,
   "metadata": {},
   "outputs": [],
   "source": [
    "model = BaselineModel()\n",
    "model.load_state_dict(torch.load(\"w.h5\"))"
   ]
  },
  {
   "cell_type": "code",
   "execution_count": null,
   "metadata": {},
   "outputs": [],
   "source": [
    "root_test = os.path.join(\"..\", \"data\", \"xuelang_round1_test_b\")\n",
    "\n",
    "import torchvision.transforms as transforms\n",
    "transform_test = transforms.Compose([ \n",
    "    transforms.Resize(512),\n",
    "    transforms.ToTensor(),\n",
    "    transforms.Normalize((0.485, 0.456, 0.406),\n",
    "                         (0.229, 0.224, 0.225)),\n",
    "])\n",
    "\n",
    "loader_test = get_loader(root_test, False, batch_size=32, transform=transform_test)"
   ]
  },
  {
   "cell_type": "code",
   "execution_count": null,
   "metadata": {},
   "outputs": [],
   "source": [
    "import torch.nn.functional as F\n",
    "import pandas as pd\n",
    "\n",
    "\n",
    "device = torch.device(\"cuda\" if torch.cuda.is_available() else \"cpu\")\n",
    "model = model.to(device)\n",
    "\n",
    "def predict():\n",
    "    result = pd.DataFrame(columns=[\"filename\", \"probability\"])\n",
    "    for x, path in loader_test:\n",
    "        x = x.to(device)\n",
    "    \n",
    "        y = model(x)\n",
    "        y = F.softmax(y, dim=1)\n",
    "        # here should be 1 - y, but I realized it few days days later after my final submit\n",
    "        # y = 1 - y.cpu().numpy()[:, 20]\n",
    "        y = y.cpu().numpy()[:, 20]\n",
    "        # in my final submit(which gives highest score), I convert prob to 0 and 1\n",
    "        # but I quickly switch back and resubmit one without this conversion, I don't know which one it was used\n",
    "        # y = (y > 0.5).astype(\"float32\")\n",
    "        data = pd.DataFrame({\"filename\":path, \"probability\":y})\n",
    "        result = result.append(data, ignore_index=True)\n",
    "    return result\n",
    "\n",
    "with torch.no_grad():\n",
    "    r = predict()"
   ]
  },
  {
   "cell_type": "code",
   "execution_count": null,
   "metadata": {},
   "outputs": [],
   "source": [
    "r.head()"
   ]
  },
  {
   "cell_type": "code",
   "execution_count": null,
   "metadata": {},
   "outputs": [],
   "source": [
    "r[\"probability\"] = r[\"probability\"].round(4).clip(0.0001, 0.9999)"
   ]
  },
  {
   "cell_type": "code",
   "execution_count": null,
   "metadata": {},
   "outputs": [],
   "source": [
    "r.head()"
   ]
  },
  {
   "cell_type": "code",
   "execution_count": null,
   "metadata": {},
   "outputs": [],
   "source": [
    "import datetime\n",
    "\n",
    "filename = \"../submit/submit_\"+datetime.datetime.now().strftime('%Y%m%d_%H%M%S') + \".csv\"\n",
    "r.to_csv(filename, index=False, float_format='%.4f')"
   ]
  },
  {
   "cell_type": "code",
   "execution_count": null,
   "metadata": {},
   "outputs": [],
   "source": []
  }
 ],
 "metadata": {
  "kernelspec": {
   "display_name": "Python 3",
   "language": "python",
   "name": "python3"
  },
  "language_info": {
   "codemirror_mode": {
    "name": "ipython",
    "version": 3
   },
   "file_extension": ".py",
   "mimetype": "text/x-python",
   "name": "python",
   "nbconvert_exporter": "python",
   "pygments_lexer": "ipython3",
   "version": "3.6.5"
  }
 },
 "nbformat": 4,
 "nbformat_minor": 2
}
