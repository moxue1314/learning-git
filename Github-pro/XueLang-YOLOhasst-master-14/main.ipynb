{
 "cells": [
  {
   "cell_type": "code",
   "execution_count": null,
   "metadata": {},
   "outputs": [
    {
     "name": "stderr",
     "output_type": "stream",
     "text": [
      "C:\\ProgramData\\Anaconda3\\lib\\site-packages\\sklearn\\cross_validation.py:41: DeprecationWarning: This module was deprecated in version 0.18 in favor of the model_selection module into which all the refactored classes and functions are moved. Also note that the interface of the new CV iterators are different from that of this module. This module will be removed in 0.20.\n",
      "  \"This module will be removed in 0.20.\", DeprecationWarning)\n"
     ]
    }
   ],
   "source": [
    "#-*- coding=utf-8 -*-\n",
    "import xml.etree.ElementTree as ET\n",
    "import glob,os\n",
    "import pprint\n",
    "import pandas as pd\n",
    "import time\n",
    "import random\n",
    "import pickle\n",
    "import cv2\n",
    "import numpy as np\n",
    "import matplotlib.pyplot as plt\n",
    "import json\n",
    "import shutil\n",
    "import math\n",
    "import datetime\n",
    "from sklearn import cross_validation,metrics\n",
    "from scipy import interp\n",
    "import matplotlib.pyplot as plt\n",
    "from sklearn import svm, datasets\n",
    "from sklearn.metrics import roc_curve, auc\n",
    "from sklearn.cross_validation import StratifiedKFold\n",
    "\n",
    "\n",
    "seed=17\n",
    "random.seed(seed)\n",
    "np.random.seed(seed)\n",
    "\n",
    "\n",
    "#遍历指定文件夹包括其子文件夹，寻找某种后缀的文件，并返回找到的文件路径列表\n",
    "def traverse_dir_suffix(dirPath, suffix):\n",
    "    suffixList = []\n",
    "    for (root, dirs, files)in os.walk(dirPath):\n",
    "            findList = glob.glob(root+'\\\\*.'+suffix)\n",
    "            for f in findList:\n",
    "                suffixList.append(f)\n",
    "    return suffixList\n",
    "\n",
    "#读取1个xml文件，输出瑕疵坐标列表和瑕疵类型列表，格式为：[[瑕疵类型1，瑕疵1坐标，瑕疵1面积占比]，...]；\n",
    "def read_xml(xmlPath):\n",
    "    tree = ET.parse(xmlPath)\n",
    "    root = tree.getroot()\n",
    "    defectList = []\n",
    "    for child in root.findall('object'):\n",
    "        bndbox=child.find('bndbox')\n",
    "        bndboxXY = [int(bndbox.find('xmin').text),int(bndbox.find('ymin').text),\n",
    "                    int(bndbox.find('xmax').text),int(bndbox.find('ymax').text)]\n",
    "        defectList.append([child.find('name').text, bndboxXY, 1.0])\n",
    "    return defectList\n",
    "\n",
    "def gen_xmlDict(xmlPath):\n",
    "    #读取所有xml文件，若xml文件存在，则为瑕疵图片，xml文件不存在，则为正常图片，\n",
    "    #生成的每张图片的Dict格式如下：\n",
    "    #{\"isNormalImg\": false, \"defectList\": [[\"油渍\", [1113, 812, 1598, 1273], 1.0], [\"线印\", [918, 427, 1003, 546], 1.0], [\"线印\", [1059, 436, 1132, 515], 1.0]]}\n",
    "    imgPath = xmlPath.replace('xml', 'jpg')\n",
    "    #h,w,c = cv_imread(imgPath).shape\n",
    "    h,w=1920,2560\n",
    "    xmlDict = {}\n",
    "    filename = os.path.split(imgPath)[1]\n",
    "    #xmlDict['imgPath'] = imgPath\n",
    "    if os.path.exists(xmlPath):\n",
    "        xmlDict['isNormalImg'] = False\n",
    "        #xmlDict['xmlPath'] = xmlPath\n",
    "        defectList = read_xml(xmlPath)\n",
    "    else:\n",
    "        xmlDict['isNormalImg'] = True\n",
    "        #xmlDict['xmlPath'] = ''\n",
    "        defectList = [[\"正常\", [0, 0, w, h], 1.0]]\n",
    "    #xmlDict['filename'] = filename \n",
    "    #xmlDict['imgPath'] = imgPath \n",
    "    xmlDict['defectList'] = defectList \n",
    "    return xmlDict\n",
    "    \n",
    "def cal_area(box):#box = [xmin,ymin,xmax,ymax]#用于计算box的面积\n",
    "    if box == []:\n",
    "        area =0\n",
    "    else:\n",
    "        [xb1,yb1,xb2,yb2] = box\n",
    "        area = (xb2-xb1)*(yb2-yb1)\n",
    "    return area \n",
    "\n",
    "def gen_cutDict(cutXY, defectList):\n",
    "    #用于生成切割后图片信息，给定切割的坐标和图片中瑕疵信息，就能判断该切割图片中是否包含瑕疵，包含的瑕疵面积占完整瑕疵总面积的比例\n",
    "    [x1,y1,x2,y2] = cutXY \n",
    "    cutDict={}\n",
    "    cutDefectList=[]\n",
    "    for defect in defectList:\n",
    "        cutDefect=[]\n",
    "        defectType, defectBox, defectRatio = defect\n",
    "        [xb1,yb1,xb2,yb2] = defectBox\n",
    "        defectArea = cal_area(defectBox)\n",
    "        assert x1<x2 and y1<y2 and xb1<xb2 and yb1<yb2, 'x1<x2, y1<y2 need to be satisfied'\n",
    "        if x2<=xb1 or xb2<=x1 or y2<=yb1 or yb2<=y1:#bndbox在切割后的图片外面\n",
    "            cutDefectBox = []\n",
    "        else:\n",
    "            if xb1<=x1 and x1<=xb2 and xb2<=x2 and yb1<=y1 and y1<=yb2 and yb2<=y2:#1-4:xb1<=x1<=xb2<=x2\n",
    "                cutDefectBox = [x1,y1,xb2,yb2]\n",
    "    \n",
    "            elif xb1<=x1 and x1<=xb2 and xb2<=x2 and y1<=yb1 and yb1<=yb2 and yb2<=y2:\n",
    "                cutDefectBox = [x1,yb1,xb2,yb2]\n",
    "    \n",
    "            elif xb1<=x1 and x1<=xb2 and xb2<=x2 and y1<=yb1 and yb1<=y2 and y2<=yb2:\n",
    "                cutDefectBox = [x1,yb1,xb2,y2]\n",
    "    \n",
    "            elif xb1<=x1 and x1<=xb2 and xb2<=x2 and yb1<=y1 and y1<=y2 and y2<=yb2:\n",
    "                cutDefectBox = [x1,y1,xb2,y2]\n",
    "    \n",
    "            elif x1<=xb1 and xb1<=xb2 and xb2<=x2 and yb1<=y1 and y1<=yb2 and yb2<=y2:#5-8:x1<=xb1<=xb2<=x2\n",
    "                cutDefectBox = [xb1,y1,xb2,yb2]\n",
    "\n",
    "            elif x1<=xb1 and xb1<=xb2 and xb2<=x2 and y1<=yb1 and yb1<=yb2 and yb2<=y2:\n",
    "                cutDefectBox = [xb1,yb1,xb2,yb2]\n",
    "        \n",
    "            elif x1<=xb1 and xb1<=xb2 and xb2<=x2 and y1<=yb1 and yb1<=y2 and y2<=yb2:\n",
    "                cutDefectBox = [xb1,yb1,xb2,y2]\n",
    "    \n",
    "            elif x1<=xb1 and xb1<=xb2 and xb2<=x2 and yb1<=y1 and y1<=y2 and y2<=yb2:\n",
    "                cutDefectBox = [xb1,y1,xb2,y2]\n",
    "    \n",
    "            elif x1<=xb1 and xb1<=x2 and x2<=xb2 and yb1<=y1 and y1<=yb2 and yb2<=y2:#9-12:x1<=xb1<=x2<=xb2\n",
    "                cutDefectBox = [xb1,y1,x2,yb2]\n",
    "            \n",
    "            elif x1<=xb1 and xb1<=x2 and x2<=xb2 and y1<=yb1 and yb1<=yb2 and yb2<=y2:\n",
    "                cutDefectBox = [xb1,yb1,x2,yb2]\n",
    "    \n",
    "            elif x1<=xb1 and xb1<=x2 and x2<=xb2 and y1<=yb1 and yb1<=y2 and y2<=yb2:\n",
    "                cutDefectBox = [xb1,yb1,x2,y2]\n",
    "    \n",
    "            elif x1<=xb1 and xb1<=x2 and x2<=xb2 and yb1<=y1 and y1<=y2 and y2<=yb2:\n",
    "                cutDefectBox = [xb1,y1,x2,y2]\n",
    "    \n",
    "            elif xb1<=x1 and x1<=x2 and x2<=xb2 and yb1<=y1 and y1<=yb2 and yb2<=y2:#13-16:xb1<=x1<=x2<=xb2\n",
    "                cutDefectBox = [x1,y1,x2,yb2]\n",
    "    \n",
    "            elif xb1<=x1 and x1<=x2 and x2<=xb2 and y1<=yb1 and yb1<=yb2 and yb2<=y2:\n",
    "                cutDefectBox = [x1,yb1,x2,yb2]\n",
    "    \n",
    "            elif xb1<=x1 and x1<=x2 and x2<=xb2 and y1<=yb1 and yb1<=y2 and y2<=yb2:\n",
    "                cutDefectBox = [x1,yb1,x2,y2]\n",
    "        \n",
    "            elif xb1<=x1 and x1<=x2 and x2<=xb2 and yb1<=y1 and y1<=y2 and y2<=yb2:\n",
    "                cutDefectBox = [x1,y1,x2,y2]   \n",
    "            else:\n",
    "                print('Error: Bonbox out of range: CutXY:%s; bndbox:%s'%(cutXY,bndbox))\n",
    "                cutDefectBox = [xb1,yb1,xb2,yb2] \n",
    "       \n",
    "        cutDefectArea = cal_area(cutDefectBox)\n",
    "        cutDefectRatio = round(cutDefectArea/defectArea,4)\n",
    "        if cutDefectBox!=[]:\n",
    "            cutDefectBox_ab = [cutDefectBox[0]-x1, cutDefectBox[1]-y1,cutDefectBox[2]-x1,cutDefectBox[3]-y1]#转换成绝对坐标\n",
    "            cutDefect = [defectType, cutDefectBox_ab, cutDefectRatio*defectRatio]\n",
    "            cutDefectList.append(cutDefect)\n",
    "     \n",
    "    if cutDefectList==[]:\n",
    "        cutDefectList.append(['正常',[0,0,x2-x1,y2-y1],1])\n",
    "    cutDict['defectList']= cutDefectList\n",
    "    cutDict['isNormalImg'] = True if cutDict['defectList'][0][0]=='正常' else False\n",
    "\n",
    "    return cutDict\n",
    "\n",
    "def sav_to_csv(xmlDict,csvSavPath):\n",
    "    head = ['filename','imgPath','isNormalImg','defectList','bndboxRatio','inBndboxArea']\n",
    "    #head = ['filename','imgPath','isNormalImg']\n",
    "    csvlist = []\n",
    "    for key in xmlDict: \n",
    "        csvlist.append(xmlDict[key])\n",
    "    \n",
    "    df = pd.DataFrame(columns=head, data=csvlist)\n",
    "    df.to_csv(csvSavPath,index=False,encoding=\"gbk\",)\n",
    "    return\n",
    "\n",
    "def draw_one_bndbox(img, bndbox, bndNum):#由于不能输入中文，所以框的text为其在xml中的序号\n",
    "    #用于将图片中的瑕疵框出，方便可视化\n",
    "    min_x,min_y,max_x,max_y = bndbox\n",
    "    cv2.rectangle(img,(min_x,min_y),(max_x,max_y),(255,0,0),3)\n",
    "    font=cv2.FONT_HERSHEY_SIMPLEX\n",
    "    cv2.putText(img, str(bndNum), (int((min_x+max_x)*0.5),int(min_y+(max_y-min_y)/4)), font, 1,(255,255,0),2)\n",
    "    return img\n",
    "\n",
    "def plt_img(img):\n",
    "    img_rgb = cv2.cvtColor(img,cv2.COLOR_BGR2RGB)\n",
    "    #plt.figure(figsize=(20,20))\n",
    "    plt.figure()\n",
    "    plt.imshow(img_rgb)  \n",
    "    plt.show() \n",
    "    \n",
    "def sav_img(imgSavPath, img):\n",
    "    savDir = os.path.split(imgSavPath)[0]\n",
    "    if not os.path.exists(savDir):\n",
    "        os.makedirs(savDir)\n",
    "    cv2.imencode('.jpg', img)[1].tofile(imgSavPath)\n",
    "    return\n",
    "\n",
    "def cv_imread(filePath):\n",
    "    #由于路径有中文，所以用该函数读取\n",
    "    cv_img=cv2.imdecode(np.fromfile(filePath,dtype=np.uint8),-1)\n",
    "    ## imdecode读取的是rgb，如果后续需要opencv处理的话，需要转换成bgr，转换后图片颜色会变化\n",
    "    #cv_img=cv2.cvtColor(cv_img,cv2.COLOR_RGB2BGR)\n",
    "    return cv_img\n",
    "\n",
    "\n",
    "def copy_file(srcfile, savDir):\n",
    "    if not os.path.isfile(srcfile):#检测要复制的文件是否存在\n",
    "        pass\n",
    "    else:\n",
    "        if not os.path.exists(savDir):\n",
    "            os.makedirs(savDir)\n",
    "        filename = os.path.split(srcfile)[1]\n",
    "        shutil.copyfile(srcfile,savDir+'\\\\'+filename)\n",
    "    return True\n",
    "\n",
    "def random_split(splitDir, trainPerc):\n",
    "    #trainPerc：训练集所占总数的比例\n",
    "    imgList = glob.glob(splitDir+'\\\\*.jpg')\n",
    "    imgNum = len(imgList)\n",
    "    random.shuffle(imgList)\n",
    "    if imgNum ==1:\n",
    "        trainList = imgList\n",
    "        valicList = []\n",
    "    else:\n",
    "        i = max(round((1-trainPerc)*imgNum),1)\n",
    "        valicList = imgList[:i]\n",
    "        trainList = imgList[i:]\n",
    "        \n",
    "    #print('type:%5s, trainNum:%5d, valicNum:%5d'%(os.path.split(splitDir)[1],len(trainList),len(valicList)))\n",
    "    return trainList, valicList\n",
    "\n",
    "def gen_data_group(srcDir, savDir, typeNum=0, dirClear=True):\n",
    "    #typeNum: 选择输出多少类别的瑕疵，默认为0输出全部，比如为5，则输出数量最多的5个类别\n",
    "    #dirClear：是否先清空savDir中的所有文件\n",
    "    subDirList = []\n",
    "    for root,dirs,files in os.walk(srcDir):\n",
    "        subDirList.append(root)\n",
    "    del subDirList[0]#第一个是原目录，删除\n",
    "    imgNumList =[len(glob.glob(subDir+'\\\\*.jpg')) for subDir in subDirList]\n",
    "    idxSortedList = np.argsort(imgNumList)[::-1]#将子文件夹按文件多少从大到小排序\n",
    "    if typeNum!= 0:\n",
    "        typeNum = min(typeNum, len(subDirList))\n",
    "        idxSortedList = idxSortedList[:typeNum]\n",
    "    trainList = []\n",
    "    valicList = []\n",
    "    for i in idxSortedList:\n",
    "        subDir = subDirList[i]\n",
    "        if len(glob.glob(subDir+'\\\\*jpg'))>0:\n",
    "            subTrainList, subValicList = random_split(subDir, 0.9)\n",
    "            trainList +=subTrainList\n",
    "            valicList +=subValicList\n",
    "    #清空保存的文件夹\n",
    "    if dirClear ==True and os.path.exists(savDir):\n",
    "        shutil.rmtree(savDir)\n",
    "    #复制img同时生成json文件\n",
    "    trainSavDir = savDir +'\\\\train'\n",
    "    valicSavDir = savDir +'\\\\valic'\n",
    "    for i, imgPath in enumerate(trainList):\n",
    "        if copy_file(imgPath, trainSavDir)==0:\n",
    "            print('%s coppy failed.'%(imgPath))\n",
    "        xmlPath = imgPath.replace('jpg','xml')\n",
    "        jsonname = os.path.split(imgPath)[1].replace('.jpg','.json')\n",
    "        imgDict = gen_xmlDict(xmlPath)\n",
    "        with open(trainSavDir+'\\\\'+jsonname,'w',encoding='utf-8') as jsonfile:\n",
    "            json.dump(imgDict, jsonfile, ensure_ascii=False)\n",
    "        if i+1<len(trainList):\n",
    "            print('Splitting train set %d/%d'%(i+1,len(trainList)),end = '\\r')\n",
    "        else:\n",
    "            print('Splitting train set %d/%d'%(i+1,len(trainList)))\n",
    "        \n",
    "    for i, imgPath in enumerate(valicList):\n",
    "        if copy_file(imgPath, valicSavDir)==0:\n",
    "            print('%s coppy failed.'%(imgPath))\n",
    "        xmlPath = imgPath.replace('jpg','xml')\n",
    "        jsonname = os.path.split(imgPath)[1].replace('.jpg','.json')\n",
    "        imgDict = gen_xmlDict(xmlPath)\n",
    "        with open(valicSavDir+'\\\\'+jsonname,'w',encoding='utf-8') as jsonfile:\n",
    "            json.dump(imgDict, jsonfile, ensure_ascii=False)  \n",
    "        if i+1<len(valicList):\n",
    "            print('Splitting valic set %d/%d'%(i+1,len(valicList)),end = '\\r')\n",
    "        else:\n",
    "            print('Splitting valic set %d/%d'%(i+1,len(valicList)))\n",
    "        \n",
    "def gen_cutXY_list(w,cutw,step):\n",
    "    #根据切割大小，和步长，生成x或y坐标的list\n",
    "    a = list(range(0,w,step))\n",
    "    a.append(w-cutw)\n",
    "    a = list(set(a))#去重\n",
    "    a.sort() \n",
    "    xList = a[:(a.index(w-cutw)+1)]\n",
    "    return xList\n",
    "    \n",
    "def cut_step(imgPath, cuth, cutw, cutStep, defectAreaP, normalNumP,cutRamdomList, savDir, drawBox=False):\n",
    "    filename = os.path.split(imgPath)[1]\n",
    "    img = cv_imread(imgPath)\n",
    "    h,w,c = img.shape\n",
    "    xList = gen_cutXY_list(w,cutw,cutStep)\n",
    "    yList = gen_cutXY_list(h,cuth,cutStep)\n",
    "    cutId = 0\n",
    "    jsonPath = imgPath.replace('jpg','json')\n",
    "    with open(jsonPath,'r',encoding='utf-8') as jsonfile:\n",
    "        imgDict=json.load(jsonfile)\n",
    "        defectList = imgDict['defectList']\n",
    "    for y1 in yList:\n",
    "        for x1 in xList:\n",
    "            cutFilename = filename[:-4]+'_'+str(cutId)+'.jpg'\n",
    "            cutJsonname = cutFilename.replace('jpg','json')\n",
    "            x2,y2 = x1+cutw,y1+cuth\n",
    "            cutXY = [x1,y1,x2,y2]\n",
    "            cutImg = img[y1:y2,x1:x2]\n",
    "            cutDict = gen_cutDict(cutXY, defectList)\n",
    "            cutDefectList = cutDict['defectList']\n",
    "            if drawBox==True and cutDefectList[0][0]!='正常':\n",
    "                for i,cutDefect in enumerate(cutDefectList):\n",
    "                    draw_one_bndbox(cutImg, cutDefect[1], i)\n",
    "            if cutDefectList[0][0]!='正常':\n",
    "                for cutDefect in cutDefectList:\n",
    "                    if cutDefect[2]>=defectAreaP:\n",
    "                        cutImgPath = savDir +'\\\\defect\\\\'+cutFilename\n",
    "                        sav_img(cutImgPath, cutImg)\n",
    "                        break\n",
    "            else:\n",
    "                if cutRamdomList[cutId]>normalNumP:\n",
    "                    cutImgPath = savDir +'\\\\normal\\\\'+cutFilename\n",
    "                    sav_img(cutImgPath, cutImg)\n",
    "            #with open(savDir+'\\\\'+cutJsonname,'w',encoding='utf-8') as jsonfile:\n",
    "                #json.dump(cutDict, jsonfile, ensure_ascii=False)\n",
    "            cutId+=1   \n",
    "    return\n",
    "\n",
    "def gen_cut_step(imgDir, cuth, cutw, cutStep, defectAreaP, normalNumP, savDir, drawBox=False):\n",
    "#defectAreaP：如：0.09的含义是，若切割后的图片中的瑕疵面积占原瑕疵面积的9%以上，则认为该瑕疵足够大，保存在defect文件中，否则舍弃\n",
    "#normalNumP：舍弃掉的正常图片的比例\n",
    "#drawBox：是否在生产的切割图片中将瑕疵框出来\n",
    "    \n",
    "    imgPathList = glob.glob(imgDir+'\\\\*.jpg')\n",
    "    h,w,c = cv2.imread(imgPathList[0]).shape\n",
    "    xList = gen_cutXY_list(w,cutw,cutStep)\n",
    "    yList = gen_cutXY_list(h,cuth,cutStep)\n",
    "    cutNum = len(xList)*len(yList)*len(imgPathList)\n",
    "    randomList = [random.random() for i in range(cutNum)]\n",
    "    for i,imgPath in enumerate(imgPathList):\n",
    "        cutRandomList = randomList[i*len(xList)*len(yList):(i+1)*len(xList)*len(yList)]\n",
    "        cut_step(imgPath, cuth,cutw,cutStep, defectAreaP, normalNumP, cutRandomList, savDir, drawBox=drawBox)\n",
    "        if i+1<len(imgPathList):\n",
    "            print('Cutting img %d/%d'%(i+1,len(imgPathList)),end = '\\r')\n",
    "        else:\n",
    "            print('Cutting img %d/%d'%(i+1,len(imgPathList)))\n",
    "\n",
    "def gen_resize(imgDir, resize, savDir):\n",
    "    imgPathList = glob.glob(imgDir+'\\\\*.jpg')\n",
    "    h,w = resize\n",
    "    for i,imgPath in enumerate(imgPathList):\n",
    "        filename = os.path.split(imgPath)[1]\n",
    "        img = cv2.imread(imgPath)\n",
    "        img = cv2.resize(img, (w,h), interpolation=cv2.INTER_AREA)\n",
    "        jsonPath = imgPath.replace('jpg','json')\n",
    "        with open(jsonPath,'r',encoding='utf-8') as jsonfile:\n",
    "            imgDict=json.load(jsonfile)\n",
    "            if imgDict['defectList'][0][0]=='正常':\n",
    "                imgPath = savDir+'\\\\normal\\\\'+filename\n",
    "            else:\n",
    "                imgPath = savDir+'\\\\defect\\\\'+filename\n",
    "        sav_img(imgPath, img)\n",
    "        if i+1<len(imgPathList):\n",
    "            print('Resizing img %d/%d'%(i+1,len(imgPathList)),end = '\\r')\n",
    "        else:\n",
    "            print('Resizing img %d/%d'%(i+1,len(imgPathList)))\n",
    "    \n",
    "def predictCutPic(picPath, cutH, cutW, cutStep, model, padding=False, paddingSize=160):\n",
    "    #用于分割图片的预测\n",
    "    img = cv2.imread(picPath)\n",
    "    if padding == True:\n",
    "        img= cv2.copyMakeBorder(img,paddingSize,paddingSize,paddingSize,paddingSize,cv2.BORDER_CONSTANT,value=0)\n",
    "    h,w,c= img.shape\n",
    "    cutNum = int((h-cutH+cutStep)/cutStep)*int((w-cutW+cutStep)/cutStep)\n",
    "    cutImgBatch = np.zeros((cutNum,cutH,cutW,3))\n",
    "    i=0\n",
    "    for y1 in range(0,h-cutH+cutStep, cutStep):\n",
    "        for x1 in range(0,w-cutW+cutStep, cutStep):\n",
    "            x2,y2 = x1+cutW, y1+cutH\n",
    "            cutImg = img[y1:y2, x1:x2]\n",
    "            cutImgBatch[i] = cutImg/255.\n",
    "            i+=1\n",
    "    pArray = model.predict(cutImgBatch)\n",
    "    return pArray[:,0]\n",
    "\n",
    "def predictFullPic(picPath,model):\n",
    "    #用于整张图片进行resize的预测\n",
    "    img = cv2.imread(picPath)\n",
    "    img = cv2.resize(img, (800,600) ,interpolation=cv2.INTER_AREA)\n",
    "    h,w,c = img.shape\n",
    "    p = model.predict((img/255.).reshape(1,h,w,c))[0][0]\n",
    "    return p\n",
    "\n",
    "def deal_pList(pList):#处理p，将大于等于1的和小于等于0的变成0到1之间，并保存成6位小数，防止提交结果报错\n",
    "    pListNew = []\n",
    "    for p in pList:\n",
    "        if p<=0:\n",
    "            p = 0.000001\n",
    "        elif p>=0.999998:\n",
    "            p = 0.999999 \n",
    "        else:\n",
    "            p = math.ceil(p*1e6)/1e6\n",
    "        pListNew.append(p)\n",
    "    return pListNew     \n",
    "\n",
    "def search_dir(dirPath, suffix):\n",
    "    suffixList = []\n",
    "    for (root, dirs, files)in os.walk(dirPath):\n",
    "            findList = glob.glob(root+'\\\\*.'+suffix)\n",
    "            for f in findList:\n",
    "                suffixList.append(f)\n",
    "    return suffixList    \n",
    "\n",
    "def plt_auc(pList, yList):\n",
    "    auc = metrics.roc_auc_score(yList, pList)\n",
    "    print('auc: %f'%auc)\n",
    "    mean_tpr = 0.0\n",
    "    mean_fpr = np.linspace(0,1,100)\n",
    "    all_tpr = []\n",
    "    fpr,tpr,thresholds = metrics.roc_curve(yList, pList)\n",
    "    mean_tpr +=interp(mean_fpr, fpr, tpr)\n",
    "    mean_tpr[0]=0.0\n",
    "    roc_auc=metrics.auc(fpr,tpr)\n",
    "    plt.plot(fpr,tpr,lw=1,label='ROC fold %d (area = %0.2f)' % (len(pList), roc_auc))\n",
    "    plt.show()\n",
    "    return auc"
   ]
  },
  {
   "cell_type": "markdown",
   "metadata": {},
   "source": [
    "## Split train and valic set"
   ]
  },
  {
   "cell_type": "code",
   "execution_count": 10,
   "metadata": {},
   "outputs": [
    {
     "name": "stdout",
     "output_type": "stream",
     "text": [
      "Splitting train set 1804/1804\n",
      "Splitting valic set 218/218\n"
     ]
    }
   ],
   "source": [
    "rawDir=r'.\\data\\raw'\n",
    "gen_data_group(r'.\\data\\official', rawDir)#按9：1分配保存保存完整图片并提取对应xml参数保存成同名json文件"
   ]
  },
  {
   "cell_type": "markdown",
   "metadata": {},
   "source": [
    "## Cut and Save img for Model A"
   ]
  },
  {
   "cell_type": "code",
   "execution_count": 11,
   "metadata": {},
   "outputs": [
    {
     "name": "stdout",
     "output_type": "stream",
     "text": [
      "Cutting img 1804/1804\n",
      "Cutting img 218/218\n"
     ]
    }
   ],
   "source": [
    "cutDir = r'.\\data\\cut'\n",
    "#按320的步长将图片切割成320*320大小，1张图片将被切割成6*8=48张\n",
    "#并将包含瑕疵的图片分到defect文件夹中，并随机选择5%的正常图片保到normal文件夹中，使正常图片约为瑕疵图片的2倍\n",
    "gen_cut_step(rawDir+'\\\\train',320, 320, 320,0.09,0.95, cutDir+'\\\\train')\n",
    "gen_cut_step(rawDir+'\\\\valic',320, 320, 320,0.09,0.94, cutDir+'\\\\valic')"
   ]
  },
  {
   "cell_type": "markdown",
   "metadata": {},
   "source": [
    "## Resize and Save img for Model B"
   ]
  },
  {
   "cell_type": "code",
   "execution_count": 12,
   "metadata": {},
   "outputs": [
    {
     "name": "stdout",
     "output_type": "stream",
     "text": [
      "Resizing img 1804/1804\n",
      "Resizing img 218/218\n"
     ]
    }
   ],
   "source": [
    "resizeDir = r'.\\data\\resize'\n",
    "gen_resize(rawDir+'\\\\train', (600,800), resizeDir+'\\\\train')\n",
    "gen_resize(rawDir+'\\\\valic', (600,800), resizeDir+'\\\\valic')"
   ]
  },
  {
   "cell_type": "markdown",
   "metadata": {},
   "source": [
    "# Train Model A"
   ]
  },
  {
   "cell_type": "code",
   "execution_count": 2,
   "metadata": {},
   "outputs": [
    {
     "name": "stderr",
     "output_type": "stream",
     "text": [
      "C:\\ProgramData\\Anaconda3\\lib\\site-packages\\h5py\\__init__.py:36: FutureWarning: Conversion of the second argument of issubdtype from `float` to `np.floating` is deprecated. In future, it will be treated as `np.float64 == np.dtype(float).type`.\n",
      "  from ._conv import register_converters as _register_converters\n",
      "Using TensorFlow backend.\n"
     ]
    },
    {
     "name": "stdout",
     "output_type": "stream",
     "text": [
      "Found 6515 images belonging to 2 classes.\n",
      "Found 949 images belonging to 2 classes.\n"
     ]
    }
   ],
   "source": [
    "#img gen\n",
    "from keras.preprocessing.image import ImageDataGenerator\n",
    "from keras.preprocessing import image\n",
    "train_datagen = ImageDataGenerator(rescale=1./255,\n",
    "                                   shear_range=0.2,\n",
    "                                   zoom_range=0.1,\n",
    "                                   horizontal_flip=True,\n",
    "                                   vertical_flip=True,\n",
    "                                   rotation_range = 90,\n",
    "                                   fill_mode = 'constant',\n",
    "                                   width_shift_range=0.1,\n",
    "                                   height_shift_range=0.1,\n",
    "                                   channel_shift_range=10,\n",
    "                                   cval = 0)\n",
    "\n",
    "valic_datagen = ImageDataGenerator(rescale=1./255)\n",
    "\n",
    "trainGen320 = train_datagen.flow_from_directory(\n",
    "        r'.\\data\\cut\\train',\n",
    "        target_size=(320,320),\n",
    "        batch_size=24,\n",
    "        seed = seed,\n",
    "        class_mode='categorical')\n",
    "\n",
    "valicGen320 = valic_datagen.flow_from_directory(\n",
    "        r'.\\data\\cut\\valic',\n",
    "        target_size=(320,320),\n",
    "        batch_size=24,\n",
    "        seed = seed,\n",
    "        class_mode='categorical')"
   ]
  },
  {
   "cell_type": "code",
   "execution_count": 3,
   "metadata": {},
   "outputs": [],
   "source": [
    "#set model layers\n",
    "import keras\n",
    "from keras.models import Model, Sequential \n",
    "from keras.layers import Dense, Activation, Conv2D, MaxPooling2D, Flatten, Dropout, GlobalAveragePooling2D \n",
    "from keras.applications.inception_resnet_v2 import InceptionResNetV2\n",
    "from keras.applications.inception_resnet_v2 import preprocess_input, decode_predictions\n",
    "\n",
    "modelA = InceptionResNetV2(include_top=False,weights='imagenet',input_shape=(None, None, 3))\n",
    "x = modelA.output\n",
    "x = GlobalAveragePooling2D()(x)\n",
    "x = Dense(1024, activation='relu')(x)\n",
    "x = Dropout(0.5, seed=seed)(x)\n",
    "predictions = Dense(2, activation='softmax')(x)\n",
    "modelA = Model(inputs=modelA.input, outputs=predictions)"
   ]
  },
  {
   "cell_type": "code",
   "execution_count": 4,
   "metadata": {
    "scrolled": true
   },
   "outputs": [
    {
     "name": "stdout",
     "output_type": "stream",
     "text": [
      "WARNING:tensorflow:Variable *= will be deprecated. Use variable.assign_mul if you want assignment to the variable value or 'x = x * y' if you want a new python Tensor object.\n",
      "Epoch 1/20\n",
      "272/272 [==============================] - 207s 760ms/step - loss: 0.6390 - acc: 0.6450 - val_loss: 0.6517 - val_acc: 0.6038\n",
      "\n",
      "Epoch 00001: val_acc improved from -inf to 0.60379, saving model to ./h5/cut320-01-0.6038.h5\n",
      "Epoch 2/20\n",
      "272/272 [==============================] - 167s 615ms/step - loss: 0.5711 - acc: 0.7126 - val_loss: 0.5328 - val_acc: 0.7482\n",
      "\n",
      "Epoch 00002: val_acc improved from 0.60379 to 0.74816, saving model to ./h5/cut320-02-0.7482.h5\n",
      "Epoch 3/20\n",
      "272/272 [==============================] - 167s 615ms/step - loss: 0.5107 - acc: 0.7582 - val_loss: 0.4717 - val_acc: 0.8019\n",
      "\n",
      "Epoch 00003: val_acc improved from 0.74816 to 0.80190, saving model to ./h5/cut320-03-0.8019.h5\n",
      "Epoch 4/20\n",
      "272/272 [==============================] - 167s 616ms/step - loss: 0.4751 - acc: 0.7873 - val_loss: 0.4329 - val_acc: 0.8261\n",
      "\n",
      "Epoch 00004: val_acc improved from 0.80190 to 0.82613, saving model to ./h5/cut320-04-0.8261.h5\n",
      "Epoch 5/20\n",
      "272/272 [==============================] - 167s 615ms/step - loss: 0.4480 - acc: 0.8013 - val_loss: 0.4039 - val_acc: 0.8303\n",
      "\n",
      "Epoch 00005: val_acc improved from 0.82613 to 0.83035, saving model to ./h5/cut320-05-0.8303.h5\n",
      "Epoch 6/20\n",
      "272/272 [==============================] - 167s 616ms/step - loss: 0.4321 - acc: 0.8106 - val_loss: 0.3850 - val_acc: 0.8462\n",
      "\n",
      "Epoch 00006: val_acc improved from 0.83035 to 0.84615, saving model to ./h5/cut320-06-0.8462.h5\n",
      "Epoch 7/20\n",
      "272/272 [==============================] - 167s 616ms/step - loss: 0.4147 - acc: 0.8200 - val_loss: 0.4008 - val_acc: 0.8282\n",
      "\n",
      "Epoch 00007: val_acc did not improve\n",
      "Epoch 8/20\n",
      "272/272 [==============================] - 168s 616ms/step - loss: 0.4094 - acc: 0.8238 - val_loss: 0.3837 - val_acc: 0.8451\n",
      "\n",
      "Epoch 00008: val_acc did not improve\n",
      "Epoch 9/20\n",
      "272/272 [==============================] - 167s 616ms/step - loss: 0.3955 - acc: 0.8355 - val_loss: 0.3978 - val_acc: 0.8303\n",
      "\n",
      "Epoch 00009: val_acc did not improve\n",
      "Epoch 10/20\n",
      "272/272 [==============================] - 167s 616ms/step - loss: 0.3870 - acc: 0.8298 - val_loss: 0.3726 - val_acc: 0.8419\n",
      "\n",
      "Epoch 00010: val_acc did not improve\n",
      "Epoch 11/20\n",
      "272/272 [==============================] - 167s 615ms/step - loss: 0.3731 - acc: 0.8408 - val_loss: 0.3929 - val_acc: 0.8440\n",
      "\n",
      "Epoch 00011: val_acc did not improve\n",
      "Epoch 12/20\n",
      "272/272 [==============================] - 168s 616ms/step - loss: 0.3692 - acc: 0.8494 - val_loss: 0.3705 - val_acc: 0.8462\n",
      "\n",
      "Epoch 00012: val_acc did not improve\n",
      "Epoch 13/20\n",
      "272/272 [==============================] - 167s 616ms/step - loss: 0.3611 - acc: 0.8516 - val_loss: 0.3833 - val_acc: 0.8303\n",
      "\n",
      "Epoch 00013: val_acc did not improve\n",
      "Epoch 14/20\n",
      "272/272 [==============================] - 167s 616ms/step - loss: 0.3560 - acc: 0.8529 - val_loss: 0.3568 - val_acc: 0.8546\n",
      "\n",
      "Epoch 00014: val_acc improved from 0.84615 to 0.85458, saving model to ./h5/cut320-14-0.8546.h5\n",
      "Epoch 15/20\n",
      "272/272 [==============================] - 167s 615ms/step - loss: 0.3488 - acc: 0.8552 - val_loss: 0.3717 - val_acc: 0.8535\n",
      "\n",
      "Epoch 00015: val_acc did not improve\n",
      "Epoch 16/20\n",
      "272/272 [==============================] - 167s 615ms/step - loss: 0.3485 - acc: 0.8552 - val_loss: 0.3655 - val_acc: 0.8535\n",
      "\n",
      "Epoch 00016: val_acc did not improve\n",
      "Epoch 17/20\n",
      "272/272 [==============================] - 167s 615ms/step - loss: 0.3369 - acc: 0.8587 - val_loss: 0.3677 - val_acc: 0.8525\n",
      "\n",
      "Epoch 00017: val_acc did not improve\n",
      "Epoch 18/20\n",
      "272/272 [==============================] - 167s 615ms/step - loss: 0.3350 - acc: 0.8614 - val_loss: 0.3537 - val_acc: 0.8577\n",
      "\n",
      "Epoch 00018: val_acc improved from 0.85458 to 0.85774, saving model to ./h5/cut320-18-0.8577.h5\n",
      "Epoch 19/20\n",
      "272/272 [==============================] - 167s 616ms/step - loss: 0.3235 - acc: 0.8637 - val_loss: 0.3686 - val_acc: 0.8577\n",
      "\n",
      "Epoch 00019: val_acc improved from 0.85774 to 0.85774, saving model to ./h5/cut320-19-0.8577.h5\n",
      "Epoch 20/20\n",
      "272/272 [==============================] - 167s 615ms/step - loss: 0.3202 - acc: 0.8679 - val_loss: 0.3773 - val_acc: 0.8493\n",
      "\n",
      "Epoch 00020: val_acc did not improve\n"
     ]
    }
   ],
   "source": [
    "#train model \n",
    "from keras.optimizers import Adam, SGD\n",
    "from keras.layers import *\n",
    "from keras.models import *\n",
    "from keras.optimizers import *\n",
    "from keras.callbacks import *\n",
    "from keras.callbacks import ModelCheckpoint\n",
    "resultsA=[]\n",
    "optimizer = SGD(lr=0.001, momentum=0.9,  decay=1e-6, nesterov=True)\n",
    "modelA.compile(optimizer=optimizer, loss='categorical_crossentropy', metrics=['accuracy'])\n",
    "\n",
    "filepath=r\"./h5/cut320-{epoch:02d}-{val_acc:.4f}.h5\"\n",
    "checkpoint= ModelCheckpoint(filepath, monitor='val_acc', verbose=1, save_best_only=True, mode='max')\n",
    "callbacks_list= [checkpoint]\n",
    "\n",
    "resultA = modelA.fit_generator(\n",
    "        trainGen320,\n",
    "        epochs=20,verbose=1,\n",
    "        callbacks=callbacks_list,\n",
    "        validation_data=valicGen320,\n",
    "        class_weight='auto')\n",
    "resultsA.append(resultA)"
   ]
  },
  {
   "cell_type": "code",
   "execution_count": 19,
   "metadata": {},
   "outputs": [],
   "source": [
    "modelA.save_weights(r'./h5/cut320.h5')"
   ]
  },
  {
   "cell_type": "code",
   "execution_count": 5,
   "metadata": {},
   "outputs": [
    {
     "data": {
      "image/png": "[encoded data removed]",
      "text/plain": [
       "<matplotlib.figure.Figure at 0x1ed27d1a0f0>"
      ]
     },
     "metadata": {},
     "output_type": "display_data"
    }
   ],
   "source": [
    "plt.plot(resultA.history['acc'],'b')\n",
    "plt.plot(resultA.history['val_acc'],'r')\n",
    "plt.plot(resultA.history['loss'],'b')\n",
    "plt.plot(resultA.history['val_loss'],'r')\n",
    "plt.show()"
   ]
  },
  {
   "cell_type": "markdown",
   "metadata": {},
   "source": [
    "# Train Model B"
   ]
  },
  {
   "cell_type": "code",
   "execution_count": 6,
   "metadata": {},
   "outputs": [
    {
     "name": "stdout",
     "output_type": "stream",
     "text": [
      "Found 1804 images belonging to 2 classes.\n",
      "Found 218 images belonging to 2 classes.\n"
     ]
    }
   ],
   "source": [
    "#img gen\n",
    "trainGen600 = train_datagen.flow_from_directory(\n",
    "        r'.\\data\\resize\\train',\n",
    "        target_size=(600,800),\n",
    "        batch_size=4,\n",
    "        seed = seed,\n",
    "        class_mode='categorical')\n",
    "\n",
    "valicGen600 = valic_datagen.flow_from_directory(\n",
    "        r'.\\data\\resize\\valic',\n",
    "        target_size=(600,800),\n",
    "        batch_size=4,\n",
    "        seed = seed,\n",
    "        class_mode='categorical')"
   ]
  },
  {
   "cell_type": "code",
   "execution_count": 7,
   "metadata": {},
   "outputs": [],
   "source": [
    "#set model layers\n",
    "modelB = InceptionResNetV2(include_top=False,weights='imagenet',input_shape=(None,None,3))\n",
    "x = modelB.output\n",
    "x = GlobalAveragePooling2D()(x)\n",
    "x = Dense(1024, activation='relu')(x)\n",
    "x = Dropout(0.5,seed=seed)(x)\n",
    "predictions = Dense(2, activation='softmax')(x)\n",
    "modelB = Model(inputs=modelB.input, outputs=predictions)"
   ]
  },
  {
   "cell_type": "code",
   "execution_count": 8,
   "metadata": {
    "scrolled": true
   },
   "outputs": [
    {
     "name": "stdout",
     "output_type": "stream",
     "text": [
      "Epoch 1/10\n",
      "451/451 [==============================] - 298s 660ms/step - loss: 0.6315 - acc: 0.6624 - val_loss: 0.6051 - val_acc: 0.6972\n",
      "\n",
      "Epoch 00001: val_acc improved from -inf to 0.69725, saving model to ./h5/resize600-01-0.6972.h5\n",
      "Epoch 2/10\n",
      "451/451 [==============================] - 255s 566ms/step - loss: 0.5522 - acc: 0.7445 - val_loss: 0.5575 - val_acc: 0.7569\n",
      "\n",
      "Epoch 00002: val_acc improved from 0.69725 to 0.75688, saving model to ./h5/resize600-02-0.7569.h5\n",
      "Epoch 3/10\n",
      "451/451 [==============================] - 256s 567ms/step - loss: 0.4509 - acc: 0.8099 - val_loss: 0.4725 - val_acc: 0.8073\n",
      "\n",
      "Epoch 00003: val_acc improved from 0.75688 to 0.80734, saving model to ./h5/resize600-03-0.8073.h5\n",
      "Epoch 4/10\n",
      "451/451 [==============================] - 256s 567ms/step - loss: 0.4213 - acc: 0.8282 - val_loss: 0.3943 - val_acc: 0.8211\n",
      "\n",
      "Epoch 00004: val_acc improved from 0.80734 to 0.82110, saving model to ./h5/resize600-04-0.8211.h5\n",
      "Epoch 5/10\n",
      "451/451 [==============================] - 256s 567ms/step - loss: 0.4110 - acc: 0.8293 - val_loss: 0.3749 - val_acc: 0.8165\n",
      "\n",
      "Epoch 00005: val_acc did not improve\n",
      "Epoch 6/10\n",
      "451/451 [==============================] - 256s 568ms/step - loss: 0.3766 - acc: 0.8453 - val_loss: 0.3874 - val_acc: 0.8394\n",
      "\n",
      "Epoch 00006: val_acc improved from 0.82110 to 0.83945, saving model to ./h5/resize600-06-0.8394.h5\n",
      "Epoch 7/10\n",
      "451/451 [==============================] - 256s 568ms/step - loss: 0.3626 - acc: 0.8631 - val_loss: 0.4209 - val_acc: 0.8486\n",
      "\n",
      "Epoch 00007: val_acc improved from 0.83945 to 0.84862, saving model to ./h5/resize600-07-0.8486.h5\n",
      "Epoch 8/10\n",
      "451/451 [==============================] - 256s 568ms/step - loss: 0.3518 - acc: 0.8586 - val_loss: 0.4899 - val_acc: 0.7844\n",
      "\n",
      "Epoch 00008: val_acc did not improve\n",
      "Epoch 9/10\n",
      "451/451 [==============================] - 256s 568ms/step - loss: 0.3379 - acc: 0.8664 - val_loss: 0.4304 - val_acc: 0.8028\n",
      "\n",
      "Epoch 00009: val_acc did not improve\n",
      "Epoch 10/10\n",
      "451/451 [==============================] - 256s 568ms/step - loss: 0.3271 - acc: 0.8786 - val_loss: 0.3795 - val_acc: 0.8440\n",
      "\n",
      "Epoch 00010: val_acc did not improve\n"
     ]
    }
   ],
   "source": [
    "#train model\n",
    "resultsB=[]\n",
    "optimizer = SGD(lr=0.001, momentum=0.9,  decay=1e-6, nesterov=True)\n",
    "modelB.compile(optimizer=optimizer, loss='categorical_crossentropy', metrics=['accuracy'])\n",
    "\n",
    "filepath=r\"./h5/resize600-{epoch:02d}-{val_acc:.4f}.h5\"\n",
    "checkpoint= ModelCheckpoint(filepath, monitor='val_acc', verbose=1, save_best_only=True, mode='max')\n",
    "callbacks_list= [checkpoint]\n",
    "\n",
    "resultB = modelB.fit_generator(\n",
    "        trainGen600,\n",
    "        epochs=10,verbose=1,\n",
    "        callbacks=callbacks_list,\n",
    "        validation_data=valicGen600,\n",
    "        class_weight='auto')\n",
    "resultsB.append(resultB)"
   ]
  },
  {
   "cell_type": "code",
   "execution_count": 20,
   "metadata": {},
   "outputs": [],
   "source": [
    "modelB.save_weights(r'./h5/resize600.h5')"
   ]
  },
  {
   "cell_type": "code",
   "execution_count": 9,
   "metadata": {},
   "outputs": [
    {
     "data": {
      "image/png": "[encoded data removed]",
      "text/plain": [
       "<matplotlib.figure.Figure at 0x1ed27d1deb8>"
      ]
     },
     "metadata": {},
     "output_type": "display_data"
    }
   ],
   "source": [
    "plt.plot(resultB.history['acc'],'b')\n",
    "plt.plot(resultB.history['val_acc'],'r')\n",
    "plt.plot(resultB.history['loss'],'b')\n",
    "plt.plot(resultB.history['val_loss'],'r')\n",
    "plt.show()"
   ]
  },
  {
   "cell_type": "markdown",
   "metadata": {},
   "source": [
    "# Test A"
   ]
  },
  {
   "cell_type": "code",
   "execution_count": 10,
   "metadata": {},
   "outputs": [
    {
     "name": "stderr",
     "output_type": "stream",
     "text": [
      "100%|████████████████████████████████████████████████████████████████████████████████| 662/662 [27:19<00:00,  2.48s/it]\n"
     ]
    }
   ],
   "source": [
    "from tqdm import tqdm\n",
    "\n",
    "testDir = r'.\\test\\testa'\n",
    "imgPathList = search_dir(testDir, 'jpg')\n",
    "xmlPathList = search_dir(testDir, 'xml')\n",
    "xmlNameList = [os.path.split(xmlPath)[1][:-4] for xmlPath in xmlPathList]\n",
    "yList = []\n",
    "for imgPath in imgPathList:\n",
    "    imgname = os.path.split(imgPath)[1]\n",
    "    if imgname[:-4] in xmlNameList:\n",
    "        yList.append(1)\n",
    "    else:\n",
    "        yList.append(0)\n",
    "\n",
    "pArrayListA = []\n",
    "pListB = []\n",
    "for imgPath in tqdm(imgPathList):\n",
    "    pArrayA = predictCutPic(imgPath,320,320,160,modelA,padding=False,paddingSize=160)\n",
    "    pB = predictFullPic(imgPath,modelB)\n",
    "    pArrayListA.append(pArrayA)\n",
    "    pListB.append(pB)"
   ]
  },
  {
   "cell_type": "code",
   "execution_count": 11,
   "metadata": {},
   "outputs": [
    {
     "name": "stdout",
     "output_type": "stream",
     "text": [
      "auc: 0.951915\n"
     ]
    },
    {
     "data": {
      "image/png": "[encoded data removed]",
      "text/plain": [
       "<matplotlib.figure.Figure at 0x1eab88ab208>"
      ]
     },
     "metadata": {},
     "output_type": "display_data"
    }
   ],
   "source": [
    "pListA = [np.mean(np.sort(pArray)[-3:]) for pArray in pArrayListA]\n",
    "pList = [0.5*pA+0.5*pB for pA,pB in zip(pListA,pListB)]\n",
    "\n",
    "auc = plt_auc(pList, yList)"
   ]
  },
  {
   "cell_type": "code",
   "execution_count": 17,
   "metadata": {},
   "outputs": [
    {
     "name": "stdout",
     "output_type": "stream",
     "text": [
      "done\n"
     ]
    }
   ],
   "source": [
    "import datetime\n",
    "#save test data to csv\n",
    "pList = deal_pList(pList)\n",
    "predictDf = pd.DataFrame()\n",
    "predictDf['filename'] = [os.path.split(imgPath)[1] for imgPath in imgPathList]\n",
    "predictDf['probability'] = pList\n",
    "predictDf.to_csv(r'.\\submit\\submit_'+datetime.datetime.now().strftime('%Y%m%d_%H%M%S') + '.csv', header=None, index=False)\n",
    "print('done')"
   ]
  },
  {
   "cell_type": "markdown",
   "metadata": {},
   "source": [
    "# Test B"
   ]
  },
  {
   "cell_type": "code",
   "execution_count": 12,
   "metadata": {},
   "outputs": [
    {
     "name": "stderr",
     "output_type": "stream",
     "text": [
      "100%|████████████████████████████████████████████████████████████████████████████████| 647/647 [26:37<00:00,  2.47s/it]\n"
     ]
    }
   ],
   "source": [
    "from tqdm import tqdm\n",
    "\n",
    "testDir = r'.\\test\\testb'\n",
    "imgPathList = search_dir(testDir, 'jpg')\n",
    "xmlPathList = search_dir(testDir, 'xml')\n",
    "xmlNameList = [os.path.split(xmlPath)[1][:-4] for xmlPath in xmlPathList]\n",
    "yList = []\n",
    "for imgPath in imgPathList:\n",
    "    imgname = os.path.split(imgPath)[1]\n",
    "    if imgname[:-4] in xmlNameList:\n",
    "        yList.append(1)\n",
    "    else:\n",
    "        yList.append(0)\n",
    "\n",
    "pArrayListA = []\n",
    "pListB = []\n",
    "for imgPath in tqdm(imgPathList):\n",
    "    pArrayA = predictCutPic(imgPath,320,320,160,modelA,padding=False,paddingSize=160)\n",
    "    pB = predictFullPic(imgPath,modelB)\n",
    "    pArrayListA.append(pArrayA)\n",
    "    pListB.append(pB)"
   ]
  },
  {
   "cell_type": "code",
   "execution_count": 13,
   "metadata": {},
   "outputs": [
    {
     "name": "stdout",
     "output_type": "stream",
     "text": [
      "auc: 0.953338\n"
     ]
    },
    {
     "data": {
      "image/png": "[encoded data removed]",
      "text/plain": [
       "<matplotlib.figure.Figure at 0x1ed9cc5f5f8>"
      ]
     },
     "metadata": {},
     "output_type": "display_data"
    }
   ],
   "source": [
    "pListA = [np.mean(np.sort(pArray)[-3:]) for pArray in pArrayListA]\n",
    "pList = [0.5*pA+0.5*pB for pA,pB in zip(pListA,pListB)]\n",
    "\n",
    "auc = plt_auc(pList, yList)"
   ]
  },
  {
   "cell_type": "code",
   "execution_count": 18,
   "metadata": {},
   "outputs": [
    {
     "name": "stdout",
     "output_type": "stream",
     "text": [
      "done\n"
     ]
    }
   ],
   "source": [
    "import datetime\n",
    "#save test data to csv\n",
    "pList = deal_pList(pList)\n",
    "predictDf = pd.DataFrame()\n",
    "predictDf['filename'] = [os.path.split(imgPath)[1] for imgPath in imgPathList]\n",
    "predictDf['probability'] = pList\n",
    "predictDf.to_csv(r'.\\submit\\submit_'+datetime.datetime.now().strftime('%Y%m%d_%H%M%S') + '.csv', header=None, index=False)\n",
    "print('done')"
   ]
  },
  {
   "cell_type": "code",
   "execution_count": null,
   "metadata": {},
   "outputs": [],
   "source": []
  }
 ],
 "metadata": {
  "kernelspec": {
   "display_name": "Python 3",
   "language": "python",
   "name": "python3"
  },
  "language_info": {
   "codemirror_mode": {
    "name": "ipython",
    "version": 3
   },
   "file_extension": ".py",
   "mimetype": "text/x-python",
   "name": "python",
   "nbconvert_exporter": "python",
   "pygments_lexer": "ipython3",
   "version": "3.6.4"
  }
 },
 "nbformat": 4,
 "nbformat_minor": 2
}
